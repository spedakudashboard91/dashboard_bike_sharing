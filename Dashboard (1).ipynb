{
  "nbformat": 4,
  "nbformat_minor": 0,
  "metadata": {
    "colab": {
      "provenance": [],
      "gpuType": "T4"
    },
    "kernelspec": {
      "name": "python3",
      "display_name": "Python 3"
    },
    "language_info": {
      "name": "python"
    },
    "accelerator": "GPU"
  },
  "cells": [
    {
      "cell_type": "code",
      "execution_count": 1,
      "metadata": {
        "colab": {
          "base_uri": "https://localhost:8080/"
        },
        "id": "-WjvMWElnSc-",
        "outputId": "f62046ed-1be3-4bb2-ff9b-cd1ed83d6389"
      },
      "outputs": [
        {
          "output_type": "stream",
          "name": "stdout",
          "text": [
            "Collecting streamlit\n",
            "  Downloading streamlit-1.41.1-py2.py3-none-any.whl.metadata (8.5 kB)\n",
            "Requirement already satisfied: pandas in /usr/local/lib/python3.10/dist-packages (2.2.2)\n",
            "Requirement already satisfied: numpy in /usr/local/lib/python3.10/dist-packages (1.26.4)\n",
            "Requirement already satisfied: seaborn in /usr/local/lib/python3.10/dist-packages (0.13.2)\n",
            "Requirement already satisfied: matplotlib in /usr/local/lib/python3.10/dist-packages (3.8.0)\n",
            "Requirement already satisfied: plotly in /usr/local/lib/python3.10/dist-packages (5.24.1)\n",
            "Requirement already satisfied: altair<6,>=4.0 in /usr/local/lib/python3.10/dist-packages (from streamlit) (5.5.0)\n",
            "Requirement already satisfied: blinker<2,>=1.0.0 in /usr/local/lib/python3.10/dist-packages (from streamlit) (1.9.0)\n",
            "Requirement already satisfied: cachetools<6,>=4.0 in /usr/local/lib/python3.10/dist-packages (from streamlit) (5.5.0)\n",
            "Requirement already satisfied: click<9,>=7.0 in /usr/local/lib/python3.10/dist-packages (from streamlit) (8.1.7)\n",
            "Requirement already satisfied: packaging<25,>=20 in /usr/local/lib/python3.10/dist-packages (from streamlit) (24.2)\n",
            "Requirement already satisfied: pillow<12,>=7.1.0 in /usr/local/lib/python3.10/dist-packages (from streamlit) (11.0.0)\n",
            "Requirement already satisfied: protobuf<6,>=3.20 in /usr/local/lib/python3.10/dist-packages (from streamlit) (4.25.5)\n",
            "Requirement already satisfied: pyarrow>=7.0 in /usr/local/lib/python3.10/dist-packages (from streamlit) (17.0.0)\n",
            "Requirement already satisfied: requests<3,>=2.27 in /usr/local/lib/python3.10/dist-packages (from streamlit) (2.32.3)\n",
            "Requirement already satisfied: rich<14,>=10.14.0 in /usr/local/lib/python3.10/dist-packages (from streamlit) (13.9.4)\n",
            "Requirement already satisfied: tenacity<10,>=8.1.0 in /usr/local/lib/python3.10/dist-packages (from streamlit) (9.0.0)\n",
            "Requirement already satisfied: toml<2,>=0.10.1 in /usr/local/lib/python3.10/dist-packages (from streamlit) (0.10.2)\n",
            "Requirement already satisfied: typing-extensions<5,>=4.3.0 in /usr/local/lib/python3.10/dist-packages (from streamlit) (4.12.2)\n",
            "Collecting watchdog<7,>=2.1.5 (from streamlit)\n",
            "  Downloading watchdog-6.0.0-py3-none-manylinux2014_x86_64.whl.metadata (44 kB)\n",
            "\u001b[2K     \u001b[90m━━━━━━━━━━━━━━━━━━━━━━━━━━━━━━━━━━━━━━━━\u001b[0m \u001b[32m44.3/44.3 kB\u001b[0m \u001b[31m3.3 MB/s\u001b[0m eta \u001b[36m0:00:00\u001b[0m\n",
            "\u001b[?25hRequirement already satisfied: gitpython!=3.1.19,<4,>=3.0.7 in /usr/local/lib/python3.10/dist-packages (from streamlit) (3.1.43)\n",
            "Collecting pydeck<1,>=0.8.0b4 (from streamlit)\n",
            "  Downloading pydeck-0.9.1-py2.py3-none-any.whl.metadata (4.1 kB)\n",
            "Requirement already satisfied: tornado<7,>=6.0.3 in /usr/local/lib/python3.10/dist-packages (from streamlit) (6.3.3)\n",
            "Requirement already satisfied: python-dateutil>=2.8.2 in /usr/local/lib/python3.10/dist-packages (from pandas) (2.8.2)\n",
            "Requirement already satisfied: pytz>=2020.1 in /usr/local/lib/python3.10/dist-packages (from pandas) (2024.2)\n",
            "Requirement already satisfied: tzdata>=2022.7 in /usr/local/lib/python3.10/dist-packages (from pandas) (2024.2)\n",
            "Requirement already satisfied: contourpy>=1.0.1 in /usr/local/lib/python3.10/dist-packages (from matplotlib) (1.3.1)\n",
            "Requirement already satisfied: cycler>=0.10 in /usr/local/lib/python3.10/dist-packages (from matplotlib) (0.12.1)\n",
            "Requirement already satisfied: fonttools>=4.22.0 in /usr/local/lib/python3.10/dist-packages (from matplotlib) (4.55.3)\n",
            "Requirement already satisfied: kiwisolver>=1.0.1 in /usr/local/lib/python3.10/dist-packages (from matplotlib) (1.4.7)\n",
            "Requirement already satisfied: pyparsing>=2.3.1 in /usr/local/lib/python3.10/dist-packages (from matplotlib) (3.2.0)\n",
            "Requirement already satisfied: jinja2 in /usr/local/lib/python3.10/dist-packages (from altair<6,>=4.0->streamlit) (3.1.4)\n",
            "Requirement already satisfied: jsonschema>=3.0 in /usr/local/lib/python3.10/dist-packages (from altair<6,>=4.0->streamlit) (4.23.0)\n",
            "Requirement already satisfied: narwhals>=1.14.2 in /usr/local/lib/python3.10/dist-packages (from altair<6,>=4.0->streamlit) (1.18.4)\n",
            "Requirement already satisfied: gitdb<5,>=4.0.1 in /usr/local/lib/python3.10/dist-packages (from gitpython!=3.1.19,<4,>=3.0.7->streamlit) (4.0.11)\n",
            "Requirement already satisfied: six>=1.5 in /usr/local/lib/python3.10/dist-packages (from python-dateutil>=2.8.2->pandas) (1.17.0)\n",
            "Requirement already satisfied: charset-normalizer<4,>=2 in /usr/local/lib/python3.10/dist-packages (from requests<3,>=2.27->streamlit) (3.4.0)\n",
            "Requirement already satisfied: idna<4,>=2.5 in /usr/local/lib/python3.10/dist-packages (from requests<3,>=2.27->streamlit) (3.10)\n",
            "Requirement already satisfied: urllib3<3,>=1.21.1 in /usr/local/lib/python3.10/dist-packages (from requests<3,>=2.27->streamlit) (2.2.3)\n",
            "Requirement already satisfied: certifi>=2017.4.17 in /usr/local/lib/python3.10/dist-packages (from requests<3,>=2.27->streamlit) (2024.12.14)\n",
            "Requirement already satisfied: markdown-it-py>=2.2.0 in /usr/local/lib/python3.10/dist-packages (from rich<14,>=10.14.0->streamlit) (3.0.0)\n",
            "Requirement already satisfied: pygments<3.0.0,>=2.13.0 in /usr/local/lib/python3.10/dist-packages (from rich<14,>=10.14.0->streamlit) (2.18.0)\n",
            "Requirement already satisfied: smmap<6,>=3.0.1 in /usr/local/lib/python3.10/dist-packages (from gitdb<5,>=4.0.1->gitpython!=3.1.19,<4,>=3.0.7->streamlit) (5.0.1)\n",
            "Requirement already satisfied: MarkupSafe>=2.0 in /usr/local/lib/python3.10/dist-packages (from jinja2->altair<6,>=4.0->streamlit) (3.0.2)\n",
            "Requirement already satisfied: attrs>=22.2.0 in /usr/local/lib/python3.10/dist-packages (from jsonschema>=3.0->altair<6,>=4.0->streamlit) (24.3.0)\n",
            "Requirement already satisfied: jsonschema-specifications>=2023.03.6 in /usr/local/lib/python3.10/dist-packages (from jsonschema>=3.0->altair<6,>=4.0->streamlit) (2024.10.1)\n",
            "Requirement already satisfied: referencing>=0.28.4 in /usr/local/lib/python3.10/dist-packages (from jsonschema>=3.0->altair<6,>=4.0->streamlit) (0.35.1)\n",
            "Requirement already satisfied: rpds-py>=0.7.1 in /usr/local/lib/python3.10/dist-packages (from jsonschema>=3.0->altair<6,>=4.0->streamlit) (0.22.3)\n",
            "Requirement already satisfied: mdurl~=0.1 in /usr/local/lib/python3.10/dist-packages (from markdown-it-py>=2.2.0->rich<14,>=10.14.0->streamlit) (0.1.2)\n",
            "Downloading streamlit-1.41.1-py2.py3-none-any.whl (9.1 MB)\n",
            "\u001b[2K   \u001b[90m━━━━━━━━━━━━━━━━━━━━━━━━━━━━━━━━━━━━━━━━\u001b[0m \u001b[32m9.1/9.1 MB\u001b[0m \u001b[31m93.3 MB/s\u001b[0m eta \u001b[36m0:00:00\u001b[0m\n",
            "\u001b[?25hDownloading pydeck-0.9.1-py2.py3-none-any.whl (6.9 MB)\n",
            "\u001b[2K   \u001b[90m━━━━━━━━━━━━━━━━━━━━━━━━━━━━━━━━━━━━━━━━\u001b[0m \u001b[32m6.9/6.9 MB\u001b[0m \u001b[31m77.5 MB/s\u001b[0m eta \u001b[36m0:00:00\u001b[0m\n",
            "\u001b[?25hDownloading watchdog-6.0.0-py3-none-manylinux2014_x86_64.whl (79 kB)\n",
            "\u001b[2K   \u001b[90m━━━━━━━━━━━━━━━━━━━━━━━━━━━━━━━━━━━━━━━━\u001b[0m \u001b[32m79.1/79.1 kB\u001b[0m \u001b[31m6.5 MB/s\u001b[0m eta \u001b[36m0:00:00\u001b[0m\n",
            "\u001b[?25hInstalling collected packages: watchdog, pydeck, streamlit\n",
            "Successfully installed pydeck-0.9.1 streamlit-1.41.1 watchdog-6.0.0\n"
          ]
        }
      ],
      "source": [
        "!pip install streamlit pandas numpy seaborn matplotlib plotly"
      ]
    },
    {
      "cell_type": "code",
      "source": [
        "!pip install streamlit pyngrok"
      ],
      "metadata": {
        "colab": {
          "base_uri": "https://localhost:8080/"
        },
        "id": "AzGcVXoGn0L1",
        "outputId": "2f7fca8d-26af-4036-e008-7e60f8ed5715"
      },
      "execution_count": 2,
      "outputs": [
        {
          "output_type": "stream",
          "name": "stdout",
          "text": [
            "Requirement already satisfied: streamlit in /usr/local/lib/python3.10/dist-packages (1.41.1)\n",
            "Collecting pyngrok\n",
            "  Downloading pyngrok-7.2.2-py3-none-any.whl.metadata (8.4 kB)\n",
            "Requirement already satisfied: altair<6,>=4.0 in /usr/local/lib/python3.10/dist-packages (from streamlit) (5.5.0)\n",
            "Requirement already satisfied: blinker<2,>=1.0.0 in /usr/local/lib/python3.10/dist-packages (from streamlit) (1.9.0)\n",
            "Requirement already satisfied: cachetools<6,>=4.0 in /usr/local/lib/python3.10/dist-packages (from streamlit) (5.5.0)\n",
            "Requirement already satisfied: click<9,>=7.0 in /usr/local/lib/python3.10/dist-packages (from streamlit) (8.1.7)\n",
            "Requirement already satisfied: numpy<3,>=1.23 in /usr/local/lib/python3.10/dist-packages (from streamlit) (1.26.4)\n",
            "Requirement already satisfied: packaging<25,>=20 in /usr/local/lib/python3.10/dist-packages (from streamlit) (24.2)\n",
            "Requirement already satisfied: pandas<3,>=1.4.0 in /usr/local/lib/python3.10/dist-packages (from streamlit) (2.2.2)\n",
            "Requirement already satisfied: pillow<12,>=7.1.0 in /usr/local/lib/python3.10/dist-packages (from streamlit) (11.0.0)\n",
            "Requirement already satisfied: protobuf<6,>=3.20 in /usr/local/lib/python3.10/dist-packages (from streamlit) (4.25.5)\n",
            "Requirement already satisfied: pyarrow>=7.0 in /usr/local/lib/python3.10/dist-packages (from streamlit) (17.0.0)\n",
            "Requirement already satisfied: requests<3,>=2.27 in /usr/local/lib/python3.10/dist-packages (from streamlit) (2.32.3)\n",
            "Requirement already satisfied: rich<14,>=10.14.0 in /usr/local/lib/python3.10/dist-packages (from streamlit) (13.9.4)\n",
            "Requirement already satisfied: tenacity<10,>=8.1.0 in /usr/local/lib/python3.10/dist-packages (from streamlit) (9.0.0)\n",
            "Requirement already satisfied: toml<2,>=0.10.1 in /usr/local/lib/python3.10/dist-packages (from streamlit) (0.10.2)\n",
            "Requirement already satisfied: typing-extensions<5,>=4.3.0 in /usr/local/lib/python3.10/dist-packages (from streamlit) (4.12.2)\n",
            "Requirement already satisfied: watchdog<7,>=2.1.5 in /usr/local/lib/python3.10/dist-packages (from streamlit) (6.0.0)\n",
            "Requirement already satisfied: gitpython!=3.1.19,<4,>=3.0.7 in /usr/local/lib/python3.10/dist-packages (from streamlit) (3.1.43)\n",
            "Requirement already satisfied: pydeck<1,>=0.8.0b4 in /usr/local/lib/python3.10/dist-packages (from streamlit) (0.9.1)\n",
            "Requirement already satisfied: tornado<7,>=6.0.3 in /usr/local/lib/python3.10/dist-packages (from streamlit) (6.3.3)\n",
            "Requirement already satisfied: PyYAML>=5.1 in /usr/local/lib/python3.10/dist-packages (from pyngrok) (6.0.2)\n",
            "Requirement already satisfied: jinja2 in /usr/local/lib/python3.10/dist-packages (from altair<6,>=4.0->streamlit) (3.1.4)\n",
            "Requirement already satisfied: jsonschema>=3.0 in /usr/local/lib/python3.10/dist-packages (from altair<6,>=4.0->streamlit) (4.23.0)\n",
            "Requirement already satisfied: narwhals>=1.14.2 in /usr/local/lib/python3.10/dist-packages (from altair<6,>=4.0->streamlit) (1.18.4)\n",
            "Requirement already satisfied: gitdb<5,>=4.0.1 in /usr/local/lib/python3.10/dist-packages (from gitpython!=3.1.19,<4,>=3.0.7->streamlit) (4.0.11)\n",
            "Requirement already satisfied: python-dateutil>=2.8.2 in /usr/local/lib/python3.10/dist-packages (from pandas<3,>=1.4.0->streamlit) (2.8.2)\n",
            "Requirement already satisfied: pytz>=2020.1 in /usr/local/lib/python3.10/dist-packages (from pandas<3,>=1.4.0->streamlit) (2024.2)\n",
            "Requirement already satisfied: tzdata>=2022.7 in /usr/local/lib/python3.10/dist-packages (from pandas<3,>=1.4.0->streamlit) (2024.2)\n",
            "Requirement already satisfied: charset-normalizer<4,>=2 in /usr/local/lib/python3.10/dist-packages (from requests<3,>=2.27->streamlit) (3.4.0)\n",
            "Requirement already satisfied: idna<4,>=2.5 in /usr/local/lib/python3.10/dist-packages (from requests<3,>=2.27->streamlit) (3.10)\n",
            "Requirement already satisfied: urllib3<3,>=1.21.1 in /usr/local/lib/python3.10/dist-packages (from requests<3,>=2.27->streamlit) (2.2.3)\n",
            "Requirement already satisfied: certifi>=2017.4.17 in /usr/local/lib/python3.10/dist-packages (from requests<3,>=2.27->streamlit) (2024.12.14)\n",
            "Requirement already satisfied: markdown-it-py>=2.2.0 in /usr/local/lib/python3.10/dist-packages (from rich<14,>=10.14.0->streamlit) (3.0.0)\n",
            "Requirement already satisfied: pygments<3.0.0,>=2.13.0 in /usr/local/lib/python3.10/dist-packages (from rich<14,>=10.14.0->streamlit) (2.18.0)\n",
            "Requirement already satisfied: smmap<6,>=3.0.1 in /usr/local/lib/python3.10/dist-packages (from gitdb<5,>=4.0.1->gitpython!=3.1.19,<4,>=3.0.7->streamlit) (5.0.1)\n",
            "Requirement already satisfied: MarkupSafe>=2.0 in /usr/local/lib/python3.10/dist-packages (from jinja2->altair<6,>=4.0->streamlit) (3.0.2)\n",
            "Requirement already satisfied: attrs>=22.2.0 in /usr/local/lib/python3.10/dist-packages (from jsonschema>=3.0->altair<6,>=4.0->streamlit) (24.3.0)\n",
            "Requirement already satisfied: jsonschema-specifications>=2023.03.6 in /usr/local/lib/python3.10/dist-packages (from jsonschema>=3.0->altair<6,>=4.0->streamlit) (2024.10.1)\n",
            "Requirement already satisfied: referencing>=0.28.4 in /usr/local/lib/python3.10/dist-packages (from jsonschema>=3.0->altair<6,>=4.0->streamlit) (0.35.1)\n",
            "Requirement already satisfied: rpds-py>=0.7.1 in /usr/local/lib/python3.10/dist-packages (from jsonschema>=3.0->altair<6,>=4.0->streamlit) (0.22.3)\n",
            "Requirement already satisfied: mdurl~=0.1 in /usr/local/lib/python3.10/dist-packages (from markdown-it-py>=2.2.0->rich<14,>=10.14.0->streamlit) (0.1.2)\n",
            "Requirement already satisfied: six>=1.5 in /usr/local/lib/python3.10/dist-packages (from python-dateutil>=2.8.2->pandas<3,>=1.4.0->streamlit) (1.17.0)\n",
            "Downloading pyngrok-7.2.2-py3-none-any.whl (22 kB)\n",
            "Installing collected packages: pyngrok\n",
            "Successfully installed pyngrok-7.2.2\n"
          ]
        }
      ]
    },
    {
      "cell_type": "code",
      "source": [
        "import streamlit as st\n",
        "import pandas as pd\n",
        "import matplotlib.pyplot as plt\n",
        "import seaborn as sns"
      ],
      "metadata": {
        "id": "3bz6Ufuxn8Ej"
      },
      "execution_count": 3,
      "outputs": []
    },
    {
      "cell_type": "code",
      "source": [
        "from google.colab import drive\n",
        "import pandas as pd\n",
        "\n",
        "# Menghubungkan Google Drive\n",
        "drive.mount('/content/drive')\n",
        "\n",
        "# Mengunduh dataset\n",
        "day_data = pd.read_csv('/content/drive/MyDrive/Notebook/day_dataset.csv')\n",
        "hour_data = pd.read_csv('/content/drive/MyDrive/Notebook/hour_dataset.csv')"
      ],
      "metadata": {
        "colab": {
          "base_uri": "https://localhost:8080/"
        },
        "id": "_osA2X5moxKQ",
        "outputId": "3c1cad6c-ab79-42f9-8921-ae2cc8ac9f02"
      },
      "execution_count": 8,
      "outputs": [
        {
          "output_type": "stream",
          "name": "stdout",
          "text": [
            "Drive already mounted at /content/drive; to attempt to forcibly remount, call drive.mount(\"/content/drive\", force_remount=True).\n"
          ]
        }
      ]
    },
    {
      "cell_type": "code",
      "source": [
        "def load_data(): # Add a function definition\n",
        "  day_df = pd.read_csv('/content/drive/MyDrive/Notebook/day_dataset.csv') # Change the name from day_data to day_df\n",
        "  day_df['dteday'] = pd.to_datetime(day_df['dteday'])\n",
        "  day_df['month'] = day_df['dteday'].dt.month\n",
        "  day_df['year'] = day_df['dteday'].dt.year\n",
        "  day_df['day_of_week'] = day_df['dteday'].dt.dayofweek\n",
        "  day_df['is_weekend'] = day_df['day_of_week'].apply(lambda x: 1 if x >= 5 else 0)\n",
        "  day_df['total_rentals'] = day_df['casual'] + day_df['registered']\n",
        "  return day_df\n",
        "\n",
        "data = load_data() # data now holds the DataFrame previously known as day_df\n",
        "\n",
        "# Menyiapkan filter components (komponen filter)\n",
        "min_date = data[\"dteday\"].min() # Use data instead of day_df\n",
        "max_date = data[\"dteday\"].max() # Use data instead of day_df"
      ],
      "metadata": {
        "id": "XuGk1gYqpRlY"
      },
      "execution_count": 12,
      "outputs": []
    },
    {
      "cell_type": "code",
      "source": [
        "import streamlit as st\n",
        "from datetime import datetime\n",
        "\n",
        "# Dummy dates for example purposes\n",
        "min_date = datetime(2020, 1, 1)\n",
        "max_date = datetime(2024, 12, 31)\n",
        "\n",
        "# Menampilkan logo Capital Bikeshare di sidebar\n",
        "st.sidebar.image('http://picrexo.com/uploads/676ec417e985f.jpeg')\n",
        "\n",
        "# Menampilkan header \"Filter\" di sidebar\n",
        "st.sidebar.header(\"Filter:\")\n",
        "\n",
        "# Memilih rentang tanggal dengan date_input di sidebar\n",
        "start_date, end_date = st.sidebar.date_input(\n",
        "    label=\"Date\",\n",
        "    min_value=min_date,\n",
        "    max_value=max_date,\n",
        "    value=[min_date, max_date]\n",
        ")\n",
        "\n",
        "# Menampilkan header \"Connect with me\" di sidebar\n",
        "st.sidebar.header(\"Please Connect with me:\")\n",
        "\n",
        "# Menampilkan nama di sidebar\n",
        "st.sidebar.markdown(\"Dora Leonny Giselle\")\n",
        "\n",
        "# Menambahkan tautan LinkedIn di sidebar\n",
        "st.sidebar.markdown(\"[![LinkedIn](https://img.shields.io/badge/LinkedIn-Profile-blue)](https://www.linkedin.com/in/dora-leonny-gise-932584275/)\")\n",
        "\n",
        "\n"
      ],
      "metadata": {
        "colab": {
          "base_uri": "https://localhost:8080/"
        },
        "id": "fNViPx6Arl0m",
        "outputId": "6484ee93-7184-4f16-b4f3-de26ac3e0879"
      },
      "execution_count": 15,
      "outputs": [
        {
          "output_type": "stream",
          "name": "stderr",
          "text": [
            "2024-12-27 15:20:00.292 Thread 'MainThread': missing ScriptRunContext! This warning can be ignored when running in bare mode.\n",
            "2024-12-27 15:20:00.294 Thread 'MainThread': missing ScriptRunContext! This warning can be ignored when running in bare mode.\n",
            "2024-12-27 15:20:00.296 Thread 'MainThread': missing ScriptRunContext! This warning can be ignored when running in bare mode.\n",
            "2024-12-27 15:20:00.298 Thread 'MainThread': missing ScriptRunContext! This warning can be ignored when running in bare mode.\n",
            "2024-12-27 15:20:00.299 Thread 'MainThread': missing ScriptRunContext! This warning can be ignored when running in bare mode.\n",
            "2024-12-27 15:20:00.301 Thread 'MainThread': missing ScriptRunContext! This warning can be ignored when running in bare mode.\n",
            "2024-12-27 15:20:00.303 Thread 'MainThread': missing ScriptRunContext! This warning can be ignored when running in bare mode.\n",
            "2024-12-27 15:20:00.304 Thread 'MainThread': missing ScriptRunContext! This warning can be ignored when running in bare mode.\n",
            "2024-12-27 15:20:00.306 Thread 'MainThread': missing ScriptRunContext! This warning can be ignored when running in bare mode.\n",
            "2024-12-27 15:20:00.307 Thread 'MainThread': missing ScriptRunContext! This warning can be ignored when running in bare mode.\n",
            "2024-12-27 15:20:00.309 Thread 'MainThread': missing ScriptRunContext! This warning can be ignored when running in bare mode.\n",
            "2024-12-27 15:20:00.310 Thread 'MainThread': missing ScriptRunContext! This warning can be ignored when running in bare mode.\n",
            "2024-12-27 15:20:00.311 Thread 'MainThread': missing ScriptRunContext! This warning can be ignored when running in bare mode.\n",
            "2024-12-27 15:20:00.314 Thread 'MainThread': missing ScriptRunContext! This warning can be ignored when running in bare mode.\n",
            "2024-12-27 15:20:00.315 Thread 'MainThread': missing ScriptRunContext! This warning can be ignored when running in bare mode.\n",
            "2024-12-27 15:20:00.316 Thread 'MainThread': missing ScriptRunContext! This warning can be ignored when running in bare mode.\n"
          ]
        },
        {
          "output_type": "execute_result",
          "data": {
            "text/plain": [
              "DeltaGenerator(_root_container=1, _parent=DeltaGenerator())"
            ]
          },
          "metadata": {},
          "execution_count": 15
        }
      ]
    },
    {
      "cell_type": "code",
      "source": [
        "# Menampilkan judul \"Bike Sharing Dashboard\" di halaman utama\n",
        "st.title(\"🚲 Bike Sharing Dashboard 🚲\")\n",
        "st.markdown(\"##\")\n",
        "\n",
        "# Assuming 'data' from your load_data function should be used here\n",
        "main_df = data  # Assign 'data' to 'main_df'\n",
        "\n",
        "# Membagi layar menjadi 3 kolom\n",
        "col1, col2, col3 = st.columns(3)\n",
        "\n",
        "# Menampilkan total rides di kolom pertama\n",
        "with col1:\n",
        "    # The 'cnt' column in day_dataset.csv likely represents total rides\n",
        "    total_all_rides = main_df['cnt'].sum()  # Changed 'count' to 'cnt'\n",
        "    st.metric(\"Total Rides\", value=total_all_rides)\n",
        "\n",
        "# Menampilkan total casual rides di kolom kedua\n",
        "with col2:\n",
        "    total_casual_rides = main_df['casual'].sum()\n",
        "    st.metric(\"Total Casual Rides\", value=total_casual_rides)\n",
        "\n",
        "# Menampilkan total registered rides di kolom ketiga\n",
        "with col3:\n",
        "    total_registered_rides = main_df['registered'].sum()\n",
        "    st.metric(\"Total Registered Rides\", value=total_registered_rides)\n",
        "\n",
        "# Menampilkan pemisah horizontal\n",
        "st.markdown(\"---\")"
      ],
      "metadata": {
        "colab": {
          "base_uri": "https://localhost:8080/"
        },
        "id": "nP96KluvtA4A",
        "outputId": "7254759c-01cb-44a1-abc9-ee015248dffc"
      },
      "execution_count": 20,
      "outputs": [
        {
          "output_type": "stream",
          "name": "stderr",
          "text": [
            "2024-12-27 15:22:46.431 Thread 'MainThread': missing ScriptRunContext! This warning can be ignored when running in bare mode.\n",
            "2024-12-27 15:22:46.433 Thread 'MainThread': missing ScriptRunContext! This warning can be ignored when running in bare mode.\n",
            "2024-12-27 15:22:46.435 Thread 'MainThread': missing ScriptRunContext! This warning can be ignored when running in bare mode.\n",
            "2024-12-27 15:22:46.437 Thread 'MainThread': missing ScriptRunContext! This warning can be ignored when running in bare mode.\n",
            "2024-12-27 15:22:46.438 Thread 'MainThread': missing ScriptRunContext! This warning can be ignored when running in bare mode.\n",
            "2024-12-27 15:22:46.440 Thread 'MainThread': missing ScriptRunContext! This warning can be ignored when running in bare mode.\n",
            "2024-12-27 15:22:46.441 Thread 'MainThread': missing ScriptRunContext! This warning can be ignored when running in bare mode.\n",
            "2024-12-27 15:22:46.442 Thread 'MainThread': missing ScriptRunContext! This warning can be ignored when running in bare mode.\n",
            "2024-12-27 15:22:46.443 Thread 'MainThread': missing ScriptRunContext! This warning can be ignored when running in bare mode.\n",
            "2024-12-27 15:22:46.447 Thread 'MainThread': missing ScriptRunContext! This warning can be ignored when running in bare mode.\n",
            "2024-12-27 15:22:46.449 Thread 'MainThread': missing ScriptRunContext! This warning can be ignored when running in bare mode.\n",
            "2024-12-27 15:22:46.450 Thread 'MainThread': missing ScriptRunContext! This warning can be ignored when running in bare mode.\n",
            "2024-12-27 15:22:46.452 Thread 'MainThread': missing ScriptRunContext! This warning can be ignored when running in bare mode.\n",
            "2024-12-27 15:22:46.453 Thread 'MainThread': missing ScriptRunContext! This warning can be ignored when running in bare mode.\n",
            "2024-12-27 15:22:46.455 Thread 'MainThread': missing ScriptRunContext! This warning can be ignored when running in bare mode.\n",
            "2024-12-27 15:22:46.457 Thread 'MainThread': missing ScriptRunContext! This warning can be ignored when running in bare mode.\n"
          ]
        },
        {
          "output_type": "execute_result",
          "data": {
            "text/plain": [
              "DeltaGenerator()"
            ]
          },
          "metadata": {},
          "execution_count": 20
        }
      ]
    },
    {
      "cell_type": "markdown",
      "source": [
        "#Visualisai"
      ],
      "metadata": {
        "id": "SmSLRmqSttI5"
      }
    },
    {
      "cell_type": "markdown",
      "source": [
        "Grouping data"
      ],
      "metadata": {
        "id": "ajbOW5aXtuAZ"
      }
    },
    {
      "cell_type": "code",
      "source": [
        "# 1. Perkembangan Jumlah Penyewaan Sepeda dari Tahun ke Tahun\n",
        "st.header(\"Perkembangan Jumlah Penyewaan Sepeda dari Tahun ke Tahun\")\n",
        "monthly_rentals = data.groupby(['year', 'month'])['cnt'].sum().reset_index()\n",
        "plt.figure(figsize=(12, 6))\n",
        "sns.lineplot(data=monthly_rentals, x='month', y='cnt', hue='year', marker='o')\n",
        "plt.title('Jumlah Penyewaan Sepeda per Bulan')\n",
        "plt.xlabel('Bulan')\n",
        "plt.ylabel('Total Penyewaan')\n",
        "plt.xticks(monthly_rentals['month'])\n",
        "plt.grid()\n",
        "st.pyplot(plt)"
      ],
      "metadata": {
        "colab": {
          "base_uri": "https://localhost:8080/",
          "height": 475
        },
        "id": "ZuhM7XPktxbL",
        "outputId": "92b088f0-07f0-43ff-c355-ce1b8d24cbf6"
      },
      "execution_count": 21,
      "outputs": [
        {
          "output_type": "stream",
          "name": "stderr",
          "text": [
            "2024-12-27 15:23:39.473 Thread 'MainThread': missing ScriptRunContext! This warning can be ignored when running in bare mode.\n",
            "2024-12-27 15:23:39.476 Thread 'MainThread': missing ScriptRunContext! This warning can be ignored when running in bare mode.\n",
            "2024-12-27 15:23:39.591 Thread 'MainThread': missing ScriptRunContext! This warning can be ignored when running in bare mode.\n",
            "2024-12-27 15:23:40.273 Thread 'MainThread': missing ScriptRunContext! This warning can be ignored when running in bare mode.\n",
            "2024-12-27 15:23:40.275 Thread 'MainThread': missing ScriptRunContext! This warning can be ignored when running in bare mode.\n"
          ]
        },
        {
          "output_type": "execute_result",
          "data": {
            "text/plain": [
              "DeltaGenerator()"
            ]
          },
          "metadata": {},
          "execution_count": 21
        },
        {
          "output_type": "display_data",
          "data": {
            "text/plain": [
              "<Figure size 1200x600 with 1 Axes>"
            ],
            "image/png": "[encoded data removed]"
          },
          "metadata": {}
        }
      ]
    },
    {
      "cell_type": "code",
      "source": [
        "# 2. Pengaruh Faktor Cuaca terhadap Penyewaan Sepeda\n",
        "st.header(\"Pengaruh Faktor Cuaca terhadap Penyewaan Sepeda\")\n",
        "weather_columns = ['temp', 'atemp', 'hum', 'windspeed']\n",
        "correlation = data[weather_columns + ['cnt']].corr()\n",
        "plt.figure(figsize=(10, 6))\n",
        "sns.heatmap(correlation, annot=True, cmap='coolwarm', fmt='.2f')\n",
        "plt.title('Matriks Korelasi antara Cuaca dan Penyewaan')\n",
        "st.pyplot(plt)"
      ],
      "metadata": {
        "colab": {
          "base_uri": "https://localhost:8080/"
        },
        "id": "HNwM8Fyat5YX",
        "outputId": "d40293a0-974b-4a05-eedf-66408466dcaf"
      },
      "execution_count": 22,
      "outputs": [
        {
          "output_type": "stream",
          "name": "stderr",
          "text": [
            "2024-12-27 15:24:00.107 Thread 'MainThread': missing ScriptRunContext! This warning can be ignored when running in bare mode.\n",
            "2024-12-27 15:24:00.109 Thread 'MainThread': missing ScriptRunContext! This warning can be ignored when running in bare mode.\n",
            "2024-12-27 15:24:00.306 Thread 'MainThread': missing ScriptRunContext! This warning can be ignored when running in bare mode.\n",
            "2024-12-27 15:24:00.810 Thread 'MainThread': missing ScriptRunContext! This warning can be ignored when running in bare mode.\n",
            "2024-12-27 15:24:00.811 Thread 'MainThread': missing ScriptRunContext! This warning can be ignored when running in bare mode.\n"
          ]
        },
        {
          "output_type": "execute_result",
          "data": {
            "text/plain": [
              "DeltaGenerator()"
            ]
          },
          "metadata": {},
          "execution_count": 22
        }
      ]
    },
    {
      "cell_type": "code",
      "source": [
        "# 3. Pola Penggunaan Sepeda pada Hari Kerja, Hari Libur, dan Hari Biasa\n",
        "st.header(\"Pola Penggunaan Sepeda: Hari Kerja vs Hari Libur\")\n",
        "holiday_rentals = data.groupby('holiday')['cnt'].sum().reset_index()\n",
        "plt.figure(figsize=(8, 5))\n",
        "plt.bar(holiday_rentals['holiday'].map({0: 'Hari Biasa', 1: 'Hari Libur'}), holiday_rentals['cnt'], color=['blue', 'orange'])\n",
        "plt.title('Total Penyewaan pada Hari Libur vs Hari Biasa')\n",
        "plt.ylabel('Total Penyewaan')\n",
        "st.pyplot(plt)"
      ],
      "metadata": {
        "colab": {
          "base_uri": "https://localhost:8080/"
        },
        "id": "gxwgrqKqt-Zf",
        "outputId": "6b2176cc-eef6-4ed0-9b5a-8a4b7b6828a1"
      },
      "execution_count": 23,
      "outputs": [
        {
          "output_type": "stream",
          "name": "stderr",
          "text": [
            "2024-12-27 15:24:20.859 Thread 'MainThread': missing ScriptRunContext! This warning can be ignored when running in bare mode.\n",
            "2024-12-27 15:24:20.862 Thread 'MainThread': missing ScriptRunContext! This warning can be ignored when running in bare mode.\n",
            "2024-12-27 15:24:20.892 Thread 'MainThread': missing ScriptRunContext! This warning can be ignored when running in bare mode.\n",
            "2024-12-27 15:24:21.215 Thread 'MainThread': missing ScriptRunContext! This warning can be ignored when running in bare mode.\n",
            "2024-12-27 15:24:21.217 Thread 'MainThread': missing ScriptRunContext! This warning can be ignored when running in bare mode.\n"
          ]
        },
        {
          "output_type": "execute_result",
          "data": {
            "text/plain": [
              "DeltaGenerator()"
            ]
          },
          "metadata": {},
          "execution_count": 23
        }
      ]
    },
    {
      "cell_type": "code",
      "source": [
        "# 4. Hubungan antara Suhu Udara dan Tingkat Penyewaan Sepeda\n",
        "st.header(\"Hubungan antara Suhu Udara dan Penyewaan Sepeda\")\n",
        "plt.figure(figsize=(10, 5))\n",
        "sns.scatterplot(data=data, x='temp', y='cnt')\n",
        "plt.title('Hubungan antara Suhu dan Penyewaan Sepeda')\n",
        "plt.xlabel('Suhu (°C)')\n",
        "plt.ylabel('Jumlah Penyewaan')\n",
        "st.pyplot(plt)"
      ],
      "metadata": {
        "colab": {
          "base_uri": "https://localhost:8080/"
        },
        "id": "UuAxvBVSuEIq",
        "outputId": "7ef30aac-c18a-4f0f-8463-a4018a03abc1"
      },
      "execution_count": 24,
      "outputs": [
        {
          "output_type": "stream",
          "name": "stderr",
          "text": [
            "2024-12-27 15:24:44.228 Thread 'MainThread': missing ScriptRunContext! This warning can be ignored when running in bare mode.\n",
            "2024-12-27 15:24:44.230 Thread 'MainThread': missing ScriptRunContext! This warning can be ignored when running in bare mode.\n",
            "2024-12-27 15:24:44.328 Thread 'MainThread': missing ScriptRunContext! This warning can be ignored when running in bare mode.\n",
            "2024-12-27 15:24:45.081 Thread 'MainThread': missing ScriptRunContext! This warning can be ignored when running in bare mode.\n",
            "2024-12-27 15:24:45.085 Thread 'MainThread': missing ScriptRunContext! This warning can be ignored when running in bare mode.\n"
          ]
        },
        {
          "output_type": "execute_result",
          "data": {
            "text/plain": [
              "DeltaGenerator()"
            ]
          },
          "metadata": {},
          "execution_count": 24
        }
      ]
    },
    {
      "cell_type": "code",
      "source": [
        "# Fitur Unik: Filter Data\n",
        "st.sidebar.header(\"Filter Data\")\n",
        "selected_year = st.sidebar.selectbox(\"Pilih Tahun\", data['year'].unique())\n",
        "filtered_data = data[data['year'] == selected_year]\n",
        "\n",
        "st.write(f\"Data Penyewaan Sepeda untuk Tahun: {selected_year}\")\n",
        "st.dataframe(filtered_data)"
      ],
      "metadata": {
        "colab": {
          "base_uri": "https://localhost:8080/"
        },
        "id": "sRrCtEZYuS16",
        "outputId": "01fa5c93-919d-4ffe-ca0d-431124325ac2"
      },
      "execution_count": 25,
      "outputs": [
        {
          "output_type": "stream",
          "name": "stderr",
          "text": [
            "2024-12-27 15:25:43.927 Thread 'MainThread': missing ScriptRunContext! This warning can be ignored when running in bare mode.\n",
            "2024-12-27 15:25:43.934 Thread 'MainThread': missing ScriptRunContext! This warning can be ignored when running in bare mode.\n",
            "2024-12-27 15:25:43.937 Thread 'MainThread': missing ScriptRunContext! This warning can be ignored when running in bare mode.\n",
            "2024-12-27 15:25:43.938 Thread 'MainThread': missing ScriptRunContext! This warning can be ignored when running in bare mode.\n",
            "2024-12-27 15:25:43.941 Thread 'MainThread': missing ScriptRunContext! This warning can be ignored when running in bare mode.\n",
            "2024-12-27 15:25:43.946 Thread 'MainThread': missing ScriptRunContext! This warning can be ignored when running in bare mode.\n",
            "2024-12-27 15:25:43.946 Session state does not function when running a script without `streamlit run`\n",
            "2024-12-27 15:25:43.949 Thread 'MainThread': missing ScriptRunContext! This warning can be ignored when running in bare mode.\n",
            "2024-12-27 15:25:43.959 Thread 'MainThread': missing ScriptRunContext! This warning can be ignored when running in bare mode.\n",
            "2024-12-27 15:25:43.962 Thread 'MainThread': missing ScriptRunContext! This warning can be ignored when running in bare mode.\n",
            "2024-12-27 15:25:43.963 Thread 'MainThread': missing ScriptRunContext! This warning can be ignored when running in bare mode.\n",
            "2024-12-27 15:25:43.965 Thread 'MainThread': missing ScriptRunContext! This warning can be ignored when running in bare mode.\n",
            "2024-12-27 15:25:43.977 Thread 'MainThread': missing ScriptRunContext! This warning can be ignored when running in bare mode.\n",
            "2024-12-27 15:25:44.041 Thread 'MainThread': missing ScriptRunContext! This warning can be ignored when running in bare mode.\n",
            "2024-12-27 15:25:44.045 Thread 'MainThread': missing ScriptRunContext! This warning can be ignored when running in bare mode.\n"
          ]
        },
        {
          "output_type": "execute_result",
          "data": {
            "text/plain": [
              "DeltaGenerator()"
            ]
          },
          "metadata": {},
          "execution_count": 25
        }
      ]
    },
    {
      "cell_type": "code",
      "source": [
        "# Fitur Unik: Descriptive Statistics\n",
        "st.sidebar.header(\"Statistik Deskriptif\")\n",
        "if st.sidebar.button(\"Tampilkan Statistik\"):\n",
        "    st.write(filtered_data.describe())"
      ],
      "metadata": {
        "colab": {
          "base_uri": "https://localhost:8080/"
        },
        "id": "x1ivDVncuXRw",
        "outputId": "74fb6234-6cc7-4d24-e29e-7e3f9e2e395c"
      },
      "execution_count": 28,
      "outputs": [
        {
          "output_type": "stream",
          "name": "stderr",
          "text": [
            "2024-12-27 15:26:30.014 Thread 'MainThread': missing ScriptRunContext! This warning can be ignored when running in bare mode.\n",
            "2024-12-27 15:26:30.017 Thread 'MainThread': missing ScriptRunContext! This warning can be ignored when running in bare mode.\n",
            "2024-12-27 15:26:30.019 Thread 'MainThread': missing ScriptRunContext! This warning can be ignored when running in bare mode.\n",
            "2024-12-27 15:26:30.020 Thread 'MainThread': missing ScriptRunContext! This warning can be ignored when running in bare mode.\n",
            "2024-12-27 15:26:30.021 Thread 'MainThread': missing ScriptRunContext! This warning can be ignored when running in bare mode.\n",
            "2024-12-27 15:26:30.022 Thread 'MainThread': missing ScriptRunContext! This warning can be ignored when running in bare mode.\n",
            "2024-12-27 15:26:30.023 Thread 'MainThread': missing ScriptRunContext! This warning can be ignored when running in bare mode.\n"
          ]
        }
      ]
    },
    {
      "cell_type": "code",
      "source": [
        "app_code = \"\"\"\n",
        "import streamlit as st\n",
        "import pandas as pd\n",
        "import matplotlib.pyplot as plt\n",
        "import seaborn as sns\n",
        "\n",
        "# Load data\n",
        "@st.cache\n",
        "def load_data():\n",
        "    # Gantilah dengan path ke dataset Anda\n",
        "    day_df = pd.read_csv('/content/drive/My Drive/Notebook/day_dataset.csv')  # Sesuaikan path sesuai kebutuhan\n",
        "    day_df['dteday'] = pd.to_datetime(day_df['dteday'])\n",
        "    day_df['month'] = day_df['dteday'].dt.month\n",
        "    day_df['year'] = day_df['dteday'].dt.year\n",
        "    day_df['day_of_week'] = day_df['dteday'].dt.dayofweek\n",
        "    day_df['is_weekend'] = day_df['day_of_week'].apply(lambda x: 1 if x >= 5 else 0)\n",
        "    day_df['total_rentals'] = day_df['casual'] + day_df['registered']\n",
        "    return day_df\n",
        "\n",
        "data = load_data()\n",
        "\n",
        "# Dashboard Title\n",
        "st.title(\"Dashboard Analisis Penyewaan Sepeda\")\n",
        "\n",
        "# 1. Perkembangan Jumlah Penyewaan Sepeda dari Tahun ke Tahun\n",
        "st.header(\"Perkembangan Jumlah Penyewaan Sepeda dari Tahun ke Tahun\")\n",
        "monthly_rentals = data.groupby(['year', 'month'])['cnt'].sum().reset_index()\n",
        "plt.figure(figsize=(12, 6))\n",
        "sns.lineplot(data=monthly_rentals, x='month', y='cnt', hue='year', marker='o')\n",
        "plt.title('Jumlah Penyewaan Sepeda per Bulan')\n",
        "plt.xlabel('Bulan')\n",
        "plt.ylabel('Total Penyewaan')\n",
        "plt.xticks(monthly_rentals['month'])\n",
        "plt.grid()\n",
        "st.pyplot(plt)\n",
        "\n",
        "# 2. Pengaruh Faktor Cuaca terhadap Penyewaan Sepeda\n",
        "st.header(\"Pengaruh Faktor Cuaca terhadap Penyewaan Sepeda\")\n",
        "weather_columns = ['temp', 'atemp', 'hum', 'windspeed']\n",
        "correlation = data[weather_columns + ['cnt']].corr()\n",
        "plt.figure(figsize=(10, 6))\n",
        "sns.heatmap(correlation, annot=True, cmap='coolwarm', fmt='.2f')\n",
        "plt.title('Matriks Korelasi antara Cuaca dan Penyewaan')\n",
        "st.pyplot(plt)\n",
        "\n",
        "# 3. Pola Penggunaan Sepeda pada Hari Kerja, Hari Libur, dan Hari Biasa\n",
        "st.header(\"Pola Penggunaan Sepeda: Hari Kerja vs Hari Libur\")\n",
        "holiday_rentals = data.groupby('holiday')['cnt'].sum().reset_index()\n",
        "plt.figure(figsize=(8, 5))\n",
        "plt.bar(holiday_rentals['holiday'].map({0: 'Hari Biasa', 1: 'Hari Libur'}), holiday_rentals['cnt'], color=['blue', 'orange'])\n",
        "plt.title('Total Penyewaan pada Hari Libur vs Hari Biasa')\n",
        "plt.ylabel('Total Penyewaan')\n",
        "st.pyplot(plt)\n",
        "\n",
        "# 4. Hubungan antara Suhu Udara dan Tingkat Penyewaan Sepeda\n",
        "st.header(\"Hubungan antara Suhu Udara dan Penyewaan Sepeda\")\n",
        "plt.figure(figsize=(10, 5))\n",
        "sns.scatterplot(data=data, x='temp', y='cnt')\n",
        "plt.title('Hubungan antara Suhu dan Penyewaan Sepeda')\n",
        "plt.xlabel('Suhu (°C)')\n",
        "plt.ylabel('Jumlah Penyewaan')\n",
        "st.pyplot(plt)\n",
        "\n",
        "# Fitur Unik: Filter Data\n",
        "st.sidebar.header(\"Filter Data\")\n",
        "selected_year = st.sidebar.selectbox(\"Pilih Tahun\", data['year'].unique())\n",
        "filtered_data = data[data['year'] == selected_year]\n",
        "\n",
        "st.write(f\"Data Penyewaan Sepeda untuk Tahun: {selected_year}\")\n",
        "st.dataframe(filtered_data)\n",
        "\n",
        "# Fitur Unik: Descriptive Statistics\n",
        "st.sidebar.header(\"Statistik Deskriptif\")\n",
        "if st.sidebar.button(\"Tampilkan Statistik\"):\n",
        "    st.write(filtered_data.describe())\n",
        "\n",
        "# Fitur Unik: Visualisasi Penyewaan Berdasarkan Musim\n",
        "st.sidebar.header(\"Visualisasi Penyewaan Berdasarkan Musim\")\n",
        "seasonal_rentals = data.groupby('season')['cnt'].sum().reset_index()\n",
        "seasonal_rentals['season'] = seasonal_rentals['season'].map({1: 'Spring', 2: 'Summer', 3: 'Fall', 4: 'Winter'})\n",
        "plt.figure(figsize=(10, 6))\n",
        "sns.barplot(x='season', y='cnt', data=seasonal_rentals, palette='viridis')\n",
        "plt.title('Total Penyewaan Sepeda Berdasarkan Musim')\n",
        "\"\"\"\n",
        "# Simpan kode ke file app.py\n",
        "with open('app.py', 'w') as f:\n",
        "    f.write(app_code)\n",
        "\n",
        "print(\"File app.py telah dibuat.\")"
      ],
      "metadata": {
        "colab": {
          "base_uri": "https://localhost:8080/"
        },
        "id": "kI3hnH_GuyW8",
        "outputId": "93e6dbe8-a46d-4c5b-882e-e30c4ece1b17"
      },
      "execution_count": 29,
      "outputs": [
        {
          "output_type": "stream",
          "name": "stdout",
          "text": [
            "File app.py telah dibuat.\n"
          ]
        }
      ]
    },
    {
      "cell_type": "code",
      "source": [
        "#Buat script untuk menjalankan Streamlit:\n",
        "%%writefile run_streamlit.sh\n",
        "streamlit run app.py & npx localtunnel --port 8501"
      ],
      "metadata": {
        "colab": {
          "base_uri": "https://localhost:8080/"
        },
        "id": "YIJxA_MgvVeZ",
        "outputId": "3dcb4e2f-2ffc-4b0b-cd0c-60cfcc1b6d0d"
      },
      "execution_count": 30,
      "outputs": [
        {
          "output_type": "stream",
          "name": "stdout",
          "text": [
            "Writing run_streamlit.sh\n"
          ]
        }
      ]
    },
    {
      "cell_type": "code",
      "source": [],
      "metadata": {
        "id": "O5ZfGx3Jwljq"
      },
      "execution_count": null,
      "outputs": []
    },
    {
      "cell_type": "code",
      "source": [
        "#Berikan izin eksekusi:\n",
        "!chmod +x run_streamlit.sh"
      ],
      "metadata": {
        "id": "INPE79U7vaLI"
      },
      "execution_count": 31,
      "outputs": []
    },
    {
      "cell_type": "code",
      "source": [
        "#Jalankan aplikasi\n",
        "# Sel untuk menjalankan Streamlit\n",
        "!streamlit run app.py"
      ],
      "metadata": {
        "colab": {
          "base_uri": "https://localhost:8080/"
        },
        "id": "-Puh72--ve0r",
        "outputId": "08346a7d-e682-4d60-fbe2-d50be9caed73"
      },
      "execution_count": 32,
      "outputs": [
        {
          "output_type": "stream",
          "name": "stdout",
          "text": [
            "\n",
            "Collecting usage statistics. To deactivate, set browser.gatherUsageStats to false.\n",
            "\u001b[0m\n",
            "\u001b[0m\n",
            "\u001b[34m\u001b[1m  You can now view your Streamlit app in your browser.\u001b[0m\n",
            "\u001b[0m\n",
            "\u001b[34m  Local URL: \u001b[0m\u001b[1mhttp://localhost:8501\u001b[0m\n",
            "\u001b[34m  Network URL: \u001b[0m\u001b[1mhttp://172.28.0.12:8501\u001b[0m\n",
            "\u001b[34m  External URL: \u001b[0m\u001b[1mhttp://35.198.207.188:8501\u001b[0m\n",
            "\u001b[0m\n",
            "\u001b[34m  Stopping...\u001b[0m\n",
            "\u001b[34m  Stopping...\u001b[0m\n",
            "Exception ignored in atexit callback: <function exit_cacert_ctx at 0x7fa165938ca0>\n",
            "Traceback (most recent call last):\n",
            "  File \"/usr/local/lib/python3.10/dist-packages/certifi/core.py\", line 11, in exit_cacert_ctx\n",
            "    _CACERT_CTX.__exit__(None, None, None)  # type: ignore[union-attr]\n",
            "  File \"/usr/lib/python3.10/pathlib.py\", line 975, in __exit__\n",
            "    def __exit__(self, t, v, tb):\n",
            "  File \"/usr/local/lib/python3.10/dist-packages/streamlit/web/bootstrap.py\", line 44, in signal_handler\n",
            "    server.stop()\n",
            "  File \"/usr/local/lib/python3.10/dist-packages/streamlit/web/server/server.py\", line 432, in stop\n",
            "    self._runtime.stop()\n",
            "  File \"/usr/local/lib/python3.10/dist-packages/streamlit/runtime/runtime.py\", line 324, in stop\n",
            "    async_objs.eventloop.call_soon_threadsafe(stop_on_eventloop)\n",
            "  File \"/usr/lib/python3.10/asyncio/base_events.py\", line 798, in call_soon_threadsafe\n",
            "    self._check_closed()\n",
            "  File \"/usr/lib/python3.10/asyncio/base_events.py\", line 515, in _check_closed\n",
            "    raise RuntimeError('Event loop is closed')\n",
            "RuntimeError: Event loop is closed\n"
          ]
        }
      ]
    }
  ]
}